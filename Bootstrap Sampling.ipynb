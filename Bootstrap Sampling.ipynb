{
 "cells": [
  {
   "cell_type": "code",
   "execution_count": 2,
   "id": "mental-elephant",
   "metadata": {},
   "outputs": [],
   "source": [
    "import numpy as np\n",
    "import matplotlib.pyplot as plt"
   ]
  },
  {
   "cell_type": "markdown",
   "id": "arranged-bronze",
   "metadata": {},
   "source": [
    "# Parametric bootstrap\n",
    "\n",
    "To illustrate, we take 30 bootsrap samples from a population of size 100."
   ]
  },
  {
   "cell_type": "markdown",
   "id": "cutting-serum",
   "metadata": {},
   "source": [
    "population"
   ]
  },
  {
   "cell_type": "code",
   "execution_count": 3,
   "id": "parliamentary-newport",
   "metadata": {},
   "outputs": [
    {
     "data": {
      "text/plain": [
       "array([51, 92, 14, 71, 60, 20, 82, 86, 74, 74, 87, 99, 23,  2, 21, 52,  1,\n",
       "       87, 29, 37,  1, 63, 59, 20, 32, 75, 57, 21, 88, 48, 90, 58, 41, 91,\n",
       "       59, 79, 14, 61, 61, 46, 61, 50, 54, 63,  2, 50,  6, 20, 72, 38, 17,\n",
       "        3, 88, 59, 13,  8, 89, 52,  1, 83, 91, 59, 70, 43,  7, 46, 34, 77,\n",
       "       80, 35, 49,  3,  1,  5, 53,  3, 53, 92, 62, 17, 89, 43, 33, 73, 61,\n",
       "       99, 13, 94, 47, 14, 71, 77, 86, 61, 39, 84, 79, 81, 52, 23])"
      ]
     },
     "execution_count": 3,
     "metadata": {},
     "output_type": "execute_result"
    }
   ],
   "source": [
    "# construct a population of size 100\n",
    "np.random.seed(42)\n",
    "population = np.random.randint(0,100 , size=100)\n",
    "population"
   ]
  },
  {
   "cell_type": "code",
   "execution_count": 4,
   "id": "obvious-headline",
   "metadata": {},
   "outputs": [
    {
     "data": {
      "text/plain": [
       "50.54"
      ]
     },
     "execution_count": 4,
     "metadata": {},
     "output_type": "execute_result"
    }
   ],
   "source": [
    "# population mean\n",
    "population.mean()"
   ]
  },
  {
   "cell_type": "code",
   "execution_count": 5,
   "id": "talented-million",
   "metadata": {},
   "outputs": [
    {
     "data": {
      "text/plain": [
       "29.278463074417004"
      ]
     },
     "execution_count": 5,
     "metadata": {},
     "output_type": "execute_result"
    }
   ],
   "source": [
    "# population standard deviation\n",
    "population.std()"
   ]
  },
  {
   "cell_type": "markdown",
   "id": "handy-running",
   "metadata": {},
   "source": [
    "orignial sample"
   ]
  },
  {
   "cell_type": "code",
   "execution_count": 6,
   "id": "capable-mustang",
   "metadata": {},
   "outputs": [
    {
     "data": {
      "text/plain": [
       "array([75, 47, 83, 61, 88, 21,  2,  7, 47, 49, 74, 94, 51, 86, 94, 70, 87,\n",
       "       89, 86, 59, 59, 41, 60, 61, 21, 82,  1,  3, 99, 91])"
      ]
     },
     "execution_count": 6,
     "metadata": {},
     "output_type": "execute_result"
    }
   ],
   "source": [
    "# draw a sample of size 30 from population\n",
    "sample = np.random.choice(population, size=30)\n",
    "sample"
   ]
  },
  {
   "cell_type": "code",
   "execution_count": 7,
   "id": "external-wholesale",
   "metadata": {},
   "outputs": [
    {
     "data": {
      "text/plain": [
       "59.6"
      ]
     },
     "execution_count": 7,
     "metadata": {},
     "output_type": "execute_result"
    }
   ],
   "source": [
    "# our first sample mean\n",
    "sample_mean = sample.mean()\n",
    "sample_mean"
   ]
  },
  {
   "cell_type": "code",
   "execution_count": 8,
   "id": "postal-supply",
   "metadata": {},
   "outputs": [
    {
     "data": {
      "text/plain": [
       "30.444522750689348"
      ]
     },
     "execution_count": 8,
     "metadata": {},
     "output_type": "execute_result"
    }
   ],
   "source": [
    "# standard deiveation for this sample\n",
    "sample_std = np.std(sample, ddof=1)\n",
    "sample_std"
   ]
  },
  {
   "cell_type": "code",
   "execution_count": 9,
   "id": "indoor-postcard",
   "metadata": {},
   "outputs": [
    {
     "data": {
      "text/plain": [
       "5.558383954343928"
      ]
     },
     "execution_count": 9,
     "metadata": {},
     "output_type": "execute_result"
    }
   ],
   "source": [
    "# estimated standard error for the sapmle mann\n",
    "sample_std/(30 ** 0.5)"
   ]
  },
  {
   "cell_type": "code",
   "execution_count": 10,
   "id": "prospective-soldier",
   "metadata": {},
   "outputs": [
    {
     "data": {
      "text/plain": [
       "5.345491558313417"
      ]
     },
     "execution_count": 10,
     "metadata": {},
     "output_type": "execute_result"
    }
   ],
   "source": [
    "# theorical standard error for sapmle mann\n",
    "population.std()/(30 ** 0.5)"
   ]
  },
  {
   "cell_type": "markdown",
   "id": "loved-conversation",
   "metadata": {},
   "source": [
    "bootstrap sampling"
   ]
  },
  {
   "cell_type": "code",
   "execution_count": 11,
   "id": "endless-discount",
   "metadata": {},
   "outputs": [],
   "source": [
    "# bootstrap resampling from empirical CDF. Since each step of our empirical CDF is identical (1/n), \n",
    "# sampling from the empirical CDF is the same as re-sampling (with replacement and equal probabilities) \n",
    "# from the sample.\n",
    "boot_means = []\n",
    "for _ in range(10000):\n",
    "    bootsample = np.random.choice(sample,size=30, replace=True)\n",
    "    boot_means.append(bootsample.mean())"
   ]
  },
  {
   "cell_type": "code",
   "execution_count": 12,
   "id": "warming-eight",
   "metadata": {},
   "outputs": [],
   "source": [
    "# simulated mean of mean\n",
    "bootmean = np.mean(boot_means)"
   ]
  },
  {
   "cell_type": "code",
   "execution_count": 13,
   "id": "preceding-appearance",
   "metadata": {},
   "outputs": [],
   "source": [
    "# simulated standard deviation of mean\n",
    "bootmean_std = np.std(boot_means)"
   ]
  },
  {
   "cell_type": "code",
   "execution_count": 14,
   "id": "solved-standing",
   "metadata": {},
   "outputs": [
    {
     "data": {
      "text/plain": [
       "(50.54, 59.66076333333333)"
      ]
     },
     "execution_count": 14,
     "metadata": {},
     "output_type": "execute_result"
    }
   ],
   "source": [
    "# simulated mean VS true mean\n",
    "(population.mean(), bootmean)"
   ]
  },
  {
   "cell_type": "code",
   "execution_count": 15,
   "id": "fitted-wrapping",
   "metadata": {},
   "outputs": [
    {
     "data": {
      "text/plain": [
       "(5.345491558313417, 5.49753810916911)"
      ]
     },
     "execution_count": 15,
     "metadata": {},
     "output_type": "execute_result"
    }
   ],
   "source": [
    "# the theorical standard error and simulated standard error\n",
    "(population.std()/(30 ** 0.5), bootmean_std)"
   ]
  },
  {
   "cell_type": "code",
   "execution_count": 16,
   "id": "peripheral-mills",
   "metadata": {},
   "outputs": [
    {
     "data": {
      "text/plain": [
       "(array([  16.,   63.,  323., 1235., 2363., 2943., 2111.,  779.,  147.,\n",
       "          20.]),\n",
       " array([37.53333333, 41.70333333, 45.87333333, 50.04333333, 54.21333333,\n",
       "        58.38333333, 62.55333333, 66.72333333, 70.89333333, 75.06333333,\n",
       "        79.23333333]),\n",
       " <a list of 10 Patch objects>)"
      ]
     },
     "execution_count": 16,
     "metadata": {},
     "output_type": "execute_result"
    },
    {
     "data": {
      "image/png": "[encoded data removed]",
      "text/plain": [
       "<Figure size 432x288 with 1 Axes>"
      ]
     },
     "metadata": {
      "needs_background": "light"
     },
     "output_type": "display_data"
    }
   ],
   "source": [
    "plt.hist(boot_means)"
   ]
  },
  {
   "cell_type": "markdown",
   "id": "informal-auction",
   "metadata": {},
   "source": [
    "# Parametric bootstrap\n",
    "\n",
    "Suppose the data $x_1, . . . , x_{300}$ is drawn from an $\\exp (\\lambda)$ distribution. Assume\n",
    "also that the data mean $x = 2$. Estimate $\\lambda$ and give a 95% parametric bootstrap confidence\n",
    "interval for $\\lambda$."
   ]
  },
  {
   "cell_type": "code",
   "execution_count": 17,
   "id": "confirmed-publication",
   "metadata": {},
   "outputs": [],
   "source": [
    "# Given 300 data points with mean 2.\n",
    "# Assume the data is exp(lambda)\n",
    "# PROBLEM: Compute a 95% parametric bootstrap confidence interval for lambda\n",
    "\n",
    "# the number of data points and mean\n",
    "n = 300\n",
    "xbar = 2\n",
    "# the number of bootstrap samples\n",
    "nboot = 1000"
   ]
  },
  {
   "cell_type": "code",
   "execution_count": 18,
   "id": "stupid-arkansas",
   "metadata": {},
   "outputs": [],
   "source": [
    "# We draw the bootstrap sample from Exponential(lambdahat)\n",
    "# Each column is one bootstrap sample (of 300 resampled values)\n",
    "bootstrapsample = np.random.exponential(scale=xbar, size=(n, nboot))"
   ]
  },
  {
   "cell_type": "code",
   "execution_count": 19,
   "id": "effective-university",
   "metadata": {},
   "outputs": [],
   "source": [
    "sample_means=np.mean(bootstrapsample, axis=0)"
   ]
  },
  {
   "cell_type": "code",
   "execution_count": 20,
   "id": "clean-sister",
   "metadata": {},
   "outputs": [
    {
     "data": {
      "text/plain": [
       "1.9992854213203346"
      ]
     },
     "execution_count": 20,
     "metadata": {},
     "output_type": "execute_result"
    }
   ],
   "source": [
    "# simulated mean of mean\n",
    "bootmean = np.mean(sample_means)\n",
    "bootmean"
   ]
  },
  {
   "cell_type": "code",
   "execution_count": 21,
   "id": "martial-aside",
   "metadata": {},
   "outputs": [
    {
     "data": {
      "text/plain": [
       "0.11256670761306142"
      ]
     },
     "execution_count": 21,
     "metadata": {},
     "output_type": "execute_result"
    }
   ],
   "source": [
    "# simulated standard deviation of mean\n",
    "bootmean_std = np.std(sample_means)\n",
    "bootmean_std"
   ]
  },
  {
   "cell_type": "code",
   "execution_count": 22,
   "id": "directed-delay",
   "metadata": {},
   "outputs": [
    {
     "data": {
      "text/plain": [
       "(array([  16.,   63.,  323., 1235., 2363., 2943., 2111.,  779.,  147.,\n",
       "          20.]),\n",
       " array([37.53333333, 41.70333333, 45.87333333, 50.04333333, 54.21333333,\n",
       "        58.38333333, 62.55333333, 66.72333333, 70.89333333, 75.06333333,\n",
       "        79.23333333]),\n",
       " <a list of 10 Patch objects>)"
      ]
     },
     "execution_count": 22,
     "metadata": {},
     "output_type": "execute_result"
    },
    {
     "data": {
      "image/png": "[encoded data removed]",
      "text/plain": [
       "<Figure size 432x288 with 1 Axes>"
      ]
     },
     "metadata": {
      "needs_background": "light"
     },
     "output_type": "display_data"
    }
   ],
   "source": [
    "plt.hist(boot_means)"
   ]
  },
  {
   "cell_type": "markdown",
   "id": "constitutional-projection",
   "metadata": {},
   "source": [
    "confidence interval"
   ]
  },
  {
   "cell_type": "code",
   "execution_count": 25,
   "id": "jewish-retention",
   "metadata": {},
   "outputs": [
    {
     "data": {
      "text/plain": [
       "(0.45078080625259803, 0.5439570029409425)"
      ]
     },
     "execution_count": 25,
     "metadata": {},
     "output_type": "execute_result"
    }
   ],
   "source": [
    "lambdahat = 1.0/xbar\n",
    "\n",
    "# Compute the bootstrap lambdastar\n",
    "lambdastar = 1.0/sample_means\n",
    "\n",
    "# Compute the differences\n",
    "deltastar = lambdastar - lambdahat\n",
    " \n",
    "# Construct confidence interval\n",
    "upper = lambdahat-np.quantile(deltastar, 0.05)\n",
    "lower = lambdahat-np.quantile(deltastar, 0.95)\n",
    "\n",
    "ci = (lower, upper)\n",
    "ci"
   ]
  }
 ],
 "metadata": {
  "kernelspec": {
   "display_name": "Python 3",
   "language": "python",
   "name": "python3"
  },
  "language_info": {
   "codemirror_mode": {
    "name": "ipython",
    "version": 3
   },
   "file_extension": ".py",
   "mimetype": "text/x-python",
   "name": "python",
   "nbconvert_exporter": "python",
   "pygments_lexer": "ipython3",
   "version": "3.7.4"
  },
  "toc": {
   "base_numbering": 1,
   "nav_menu": {},
   "number_sections": true,
   "sideBar": true,
   "skip_h1_title": false,
   "title_cell": "Table of Contents",
   "title_sidebar": "Contents",
   "toc_cell": false,
   "toc_position": {},
   "toc_section_display": true,
   "toc_window_display": false
  }
 },
 "nbformat": 4,
 "nbformat_minor": 5
}
